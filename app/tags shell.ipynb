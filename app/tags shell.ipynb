{
 "cells": [
  {
   "cell_type": "code",
   "execution_count": 1,
   "metadata": {},
   "outputs": [],
   "source": [
    "import re"
   ]
  },
  {
   "cell_type": "code",
   "execution_count": 15,
   "metadata": {},
   "outputs": [],
   "source": [
    "content = '''\n",
    "오늘은 신나는 #Django 웹프로그래밍스쿨 오는 날\n",
    "#WPS #웹프로그래밍스쿨 #Django #Python'''"
   ]
  },
  {
   "cell_type": "markdown",
   "metadata": {},
   "source": [
    "- 다음 아무 문자 반복되는 '해시태그' 목록을 문자열 리스트로 가져오기\n",
    "    - 다음 # 또는 공백이 오기 전까지\n",
    "    - 결과: ['Django', 'WPS', '웹프로그래밍스쿨', 'Python']\n",
    "- 위 해시태그에 해당하는 문자열을 '(태그: <해당문자열>)' 이라는 문자로 치환\n",
    "    - ex) 오늘은 신나는 (태그: Django) 웹프로그래밍스쿨 오는 날"
   ]
  },
  {
   "cell_type": "code",
   "execution_count": 18,
   "metadata": {},
   "outputs": [
    {
     "data": {
      "text/plain": [
       "['Django', 'WPS', '웹프로그래밍스쿨', 'Django', 'Python']"
      ]
     },
     "execution_count": 18,
     "metadata": {},
     "output_type": "execute_result"
    }
   ],
   "source": [
    "pattern = re.compile(r'#(\\w+)')\n",
    "re.findall(pattern, content)"
   ]
  },
  {
   "cell_type": "code",
   "execution_count": 21,
   "metadata": {},
   "outputs": [
    {
     "data": {
      "text/plain": [
       "'\\n오늘은 신나는 (태그: #Django) 웹프로그래밍스쿨 오는 날\\n(태그: #WPS) (태그: #웹프로그래밍스쿨) (태그: #Django) (태그: #Python)'"
      ]
     },
     "execution_count": 21,
     "metadata": {},
     "output_type": "execute_result"
    }
   ],
   "source": [
    "re.sub(pattern, '(태그: #\\g<1>)', content)"
   ]
  },
  {
   "cell_type": "code",
   "execution_count": 32,
   "metadata": {},
   "outputs": [
    {
     "name": "stdout",
     "output_type": "stream",
     "text": [
      "#Django\n",
      "#WPS\n",
      "#웹프로그래밍스쿨\n",
      "#Django\n",
      "#Python\n"
     ]
    }
   ],
   "source": [
    "match_list = re.finditer(pattern, content)\n",
    "\n",
    "for m in match_list:\n",
    "    print(m.group(0))"
   ]
  },
  {
   "cell_type": "code",
   "execution_count": 34,
   "metadata": {},
   "outputs": [
    {
     "name": "stdout",
     "output_type": "stream",
     "text": [
      "Django\n",
      "WPS\n",
      "웹프로그래밍스쿨\n",
      "Django\n",
      "Python\n"
     ]
    }
   ],
   "source": [
    "match_list = re.finditer(pattern, content)\n",
    "\n",
    "for m in match_list:\n",
    "    print(m.group(1))"
   ]
  }
 ],
 "metadata": {
  "kernelspec": {
   "display_name": "Django Shell-Plus",
   "language": "python",
   "name": "django_extensions"
  },
  "language_info": {
   "codemirror_mode": {
    "name": "ipython",
    "version": 3
   },
   "file_extension": ".py",
   "mimetype": "text/x-python",
   "name": "python",
   "nbconvert_exporter": "python",
   "pygments_lexer": "ipython3",
   "version": "3.7.5"
  }
 },
 "nbformat": 4,
 "nbformat_minor": 2
}
