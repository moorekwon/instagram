{
 "cells": [
  {
   "cell_type": "code",
   "execution_count": 10,
   "metadata": {},
   "outputs": [],
   "source": [
    "# 1. Post 중 자신에게 포함된 Comment들 중에\n",
    "# content 속성(column)에 '좋아요' 이라는 문자열이 들어가는 경우인 Post 목록\n",
    "#     - 일부 Post가 '좋아요' 이라는 내용을 포함하는 댓글을 가져야 함\n",
    "# 1-1. Post 중 태그가 없는 경우인 Post 목록"
   ]
  },
  {
   "cell_type": "code",
   "execution_count": 18,
   "metadata": {},
   "outputs": [
    {
     "data": {
      "text/plain": [
       "<QuerySet [{'pk': 6}, {'pk': 6}, {'pk': 6}]>"
      ]
     },
     "execution_count": 18,
     "metadata": {},
     "output_type": "execute_result"
    }
   ],
   "source": [
    "Post.objects.filter(\n",
    "    postcomment__content__contains='좋아요'\n",
    ").values('pk')"
   ]
  },
  {
   "cell_type": "code",
   "execution_count": 19,
   "metadata": {},
   "outputs": [
    {
     "data": {
      "text/plain": [
       "<QuerySet [8, 6, 4, 3, 2, 1]>"
      ]
     },
     "execution_count": 19,
     "metadata": {},
     "output_type": "execute_result"
    }
   ],
   "source": [
    "Post.objects.filter(\n",
    "    tags__isnull=True\n",
    ").values_list('pk', flat=True).order_by('-pk')"
   ]
  },
  {
   "cell_type": "code",
   "execution_count": 20,
   "metadata": {},
   "outputs": [],
   "source": [
    "# 2. Post 중 자신에게 포함된 Comment들 중에\n",
    "# Post의 author와 Comment의 author가 다른 경우인 Comment가 존재하는 Post 목록\n",
    "#     > 댓글은 존재하나, 작성자가 작성한 댓글은 없는 경우인 Post 목록\n",
    "#     - Post 작성자 외 다른 사용자가 댓들을 단 경우가 존재해야 함\n",
    "#     - Django의 F Expression 사용"
   ]
  },
  {
   "cell_type": "code",
   "execution_count": 21,
   "metadata": {},
   "outputs": [
    {
     "data": {
      "text/plain": [
       "<QuerySet []>"
      ]
     },
     "execution_count": 21,
     "metadata": {},
     "output_type": "execute_result"
    }
   ],
   "source": [
    "Post.objects.exclude(\n",
    "    postcomment__isnull=True\n",
    ").exclude(\n",
    "    postcomment__author=F('author')\n",
    ").values_list('pk', flat=True).order_by('-pk')"
   ]
  },
  {
   "cell_type": "code",
   "execution_count": 22,
   "metadata": {},
   "outputs": [],
   "source": [
    "# 3. HashTag 중 자신에게 연결된 Comment의 Post의 author의 pk가 1인 경우인 HashTag 목록\n",
    "#     - 없다면 author의 pk를 바꿔봄"
   ]
  },
  {
   "cell_type": "code",
   "execution_count": 23,
   "metadata": {},
   "outputs": [
    {
     "data": {
      "text/plain": [
       "<QuerySet [5, 7, 9, 10, 11, 12, 13]>"
      ]
     },
     "execution_count": 23,
     "metadata": {},
     "output_type": "execute_result"
    }
   ],
   "source": [
    "Tag.objects.filter(\n",
    "    posts__author__pk=1\n",
    ").values_list('posts', flat=True).distinct()"
   ]
  },
  {
   "cell_type": "code",
   "execution_count": 24,
   "metadata": {},
   "outputs": [],
   "source": [
    "# 4. Post 중 자신의 좋아요 개수가 1개 이상인(좋아요가 존재하는) Post 목록\n",
    "#     - Field lookup의 'isnull' 항목 참조"
   ]
  },
  {
   "cell_type": "code",
   "execution_count": 25,
   "metadata": {},
   "outputs": [
    {
     "data": {
      "text/plain": [
       "<QuerySet [<Post: practice | 2019-12-24 02:33:09.777656+00:00>, <Post: practice | 2019-12-24 02:33:09.777656+00:00>, <Post: practice | 2020-01-08 07:17:44.038017+00:00>, <Post: practice | 2020-01-08 08:36:40.039094+00:00>]>"
      ]
     },
     "execution_count": 25,
     "metadata": {},
     "output_type": "execute_result"
    }
   ],
   "source": [
    "Post.objects.filter(\n",
    "    postlike__isnull=False\n",
    ")"
   ]
  },
  {
   "cell_type": "code",
   "execution_count": 26,
   "metadata": {},
   "outputs": [
    {
     "data": {
      "text/plain": [
       "<QuerySet [1, 3, 6]>"
      ]
     },
     "execution_count": 26,
     "metadata": {},
     "output_type": "execute_result"
    }
   ],
   "source": [
    "Post.objects.exclude(\n",
    "    postlike__isnull=True\n",
    ").values_list('pk', flat=True)"
   ]
  },
  {
   "cell_type": "code",
   "execution_count": 27,
   "metadata": {},
   "outputs": [],
   "source": [
    "# 5. Comment 중 자신의 Post의 좋아요 개수가 1개 이상인 Comment 목록\n",
    "#     - Field lookup의 'isnull' 항목 참조"
   ]
  },
  {
   "cell_type": "code",
   "execution_count": 33,
   "metadata": {},
   "outputs": [
    {
     "data": {
      "text/plain": [
       "<QuerySet [1, 2, 3, 4, 5, 6, 8, 9, 10, 11, 12, 13, 15, 16]>"
      ]
     },
     "execution_count": 33,
     "metadata": {},
     "output_type": "execute_result"
    }
   ],
   "source": [
    "PostComment.objects.filter(\n",
    "    post__postlike__isnull=False\n",
    ").values_list('pk', flat=True).distinct()"
   ]
  },
  {
   "cell_type": "code",
   "execution_count": 32,
   "metadata": {},
   "outputs": [
    {
     "data": {
      "text/plain": [
       "<QuerySet [(1, 6, 24, 1), (2, 6, 24, 1), (3, 6, 24, 1), (4, 6, 24, 1), (5, 6, 24, 1), (6, 6, 24, 1), (8, 6, 24, 1), (9, 6, 24, 1), (10, 6, 24, 1), (11, 6, 24, 1), (12, 6, 24, 1), (13, 6, 24, 1), (15, 6, 24, 1), (16, 6, 24, 1)]>"
      ]
     },
     "execution_count": 32,
     "metadata": {},
     "output_type": "execute_result"
    }
   ],
   "source": [
    "PostComment.objects.filter(\n",
    "    post__postlike__isnull=False\n",
    ").values_list('pk', 'post', 'post__postlike', 'post__postlike__user')"
   ]
  },
  {
   "cell_type": "code",
   "execution_count": 29,
   "metadata": {},
   "outputs": [],
   "source": [
    "# 6. Comment 중 자신의 Post에 속하는 가장 최근 PostLike가 1주일 이내인 Comment 목록\n",
    "#     - from django.utils import timezone\n",
    "#     - 현재 시간은 timezone.now()로 가져올 수 있음"
   ]
  },
  {
   "cell_type": "code",
   "execution_count": 36,
   "metadata": {},
   "outputs": [
    {
     "data": {
      "text/plain": [
       "<QuerySet [{'pk': 6}, {'pk': 3}]>"
      ]
     },
     "execution_count": 36,
     "metadata": {},
     "output_type": "execute_result"
    }
   ],
   "source": [
    "from datetime import timedelta\n",
    "\n",
    "now = timezone.now()\n",
    "a_week_ago = now - timedelta(days=7)\n",
    "\n",
    "Post.objects.filter(\n",
    "    postlike__created__gte=a_week_ago\n",
    ").values('pk')"
   ]
  },
  {
   "cell_type": "code",
   "execution_count": 43,
   "metadata": {},
   "outputs": [
    {
     "data": {
      "text/plain": [
       "<QuerySet [{'pk': 1, 'postlike__user': 2}, {'pk': 1, 'postlike__user': 8}, {'pk': 6, 'postlike__user': 1}, {'pk': 3, 'postlike__user': 1}]>"
      ]
     },
     "execution_count": 43,
     "metadata": {},
     "output_type": "execute_result"
    }
   ],
   "source": [
    "# Comment 중 자신의 Post에 속하는 가장 최근 PostLike가 3일 이후인 Comment 목록\n",
    "Post.objects.filter(\n",
    "    postlike__created__lt=a_week_ago\n",
    ").values('pk', 'postlike__user')"
   ]
  },
  {
   "cell_type": "code",
   "execution_count": 44,
   "metadata": {},
   "outputs": [
    {
     "data": {
      "text/plain": [
       "<QuerySet [{'pk': 1, 'post': 6}, {'pk': 2, 'post': 6}, {'pk': 3, 'post': 6}, {'pk': 4, 'post': 6}, {'pk': 5, 'post': 6}, {'pk': 6, 'post': 6}, {'pk': 8, 'post': 6}, {'pk': 9, 'post': 6}, {'pk': 10, 'post': 6}, {'pk': 11, 'post': 6}, {'pk': 12, 'post': 6}, {'pk': 13, 'post': 6}, {'pk': 15, 'post': 6}, {'pk': 16, 'post': 6}]>"
      ]
     },
     "execution_count": 44,
     "metadata": {},
     "output_type": "execute_result"
    }
   ],
   "source": [
    "PostComment.objects.filter(\n",
    "    post__postlike__created__lt=a_week_ago\n",
    ").values('pk', 'post')"
   ]
  },
  {
   "cell_type": "code",
   "execution_count": 51,
   "metadata": {
    "scrolled": false
   },
   "outputs": [],
   "source": [
    "a_week_ago = now - timedelta(hours=2)\n",
    "\n",
    "Post.objects.filter(\n",
    "    postlike__created__lt=a_week_ago\n",
    ").values('pk', 'postlike__user')\n",
    "\n",
    "for item in PostComment.objects.filter(\n",
    "    post__postlike__created__lt=a_week_ago\n",
    ").values('pk', 'post', 'post__postlike__created').order_by('-post__pk').filter(\n",
    "    post__pk=21\n",
    "):\n",
    "    print(item)"
   ]
  },
  {
   "cell_type": "code",
   "execution_count": null,
   "metadata": {},
   "outputs": [],
   "source": [
    "# 7. 각각의 Post에 댓글이 몇 개 달렸는지 QuerySet.values()로 꺼내보기\n",
    "#     Django annotate / aggregate\n",
    "#     QueyrSetAPI의 Aggregation functions의 Count()를 사용해야 함\n",
    "#         -> QueyrSet.count()와 다름\n",
    "#     Post.objects.annotate(<무언가>).values(<왼쪽에서한걸활용>)"
   ]
  },
  {
   "cell_type": "code",
   "execution_count": 55,
   "metadata": {},
   "outputs": [
    {
     "data": {
      "text/plain": [
       "0"
      ]
     },
     "execution_count": 55,
     "metadata": {},
     "output_type": "execute_result"
    }
   ],
   "source": [
    "post = Post.objects.last()\n",
    "post.postcomment_set.count()"
   ]
  },
  {
   "cell_type": "code",
   "execution_count": 56,
   "metadata": {},
   "outputs": [
    {
     "data": {
      "text/plain": [
       "<QuerySet [(1, 0), (2, 0), (3, 0), (4, 0), (5, 1), (6, 14), (7, 0), (8, 0), (9, 0), (10, 0), (11, 0), (12, 0), (13, 0)]>"
      ]
     },
     "execution_count": 56,
     "metadata": {},
     "output_type": "execute_result"
    }
   ],
   "source": [
    "Post.objects.annotate(\n",
    "    comment_count=Count('postcomment')\n",
    ").values_list('pk', 'comment_count')"
   ]
  },
  {
   "cell_type": "code",
   "execution_count": null,
   "metadata": {},
   "outputs": [],
   "source": [
    "# 8. 댓글이 3개 이상인 Post 목록만 가져오기\n",
    "#     Post.objects.annotate(<무언가>).filter(<왼쪽에서한걸활용>)"
   ]
  },
  {
   "cell_type": "code",
   "execution_count": 57,
   "metadata": {},
   "outputs": [
    {
     "data": {
      "text/plain": [
       "<QuerySet [6]>"
      ]
     },
     "execution_count": 57,
     "metadata": {},
     "output_type": "execute_result"
    }
   ],
   "source": [
    "Post.objects.annotate(\n",
    "    comment_count=Count('postcomment')\n",
    ").filter(\n",
    "    comment_count__gte=3\n",
    ").values_list('pk', flat=True)"
   ]
  },
  {
   "cell_type": "code",
   "execution_count": null,
   "metadata": {},
   "outputs": [],
   "source": [
    "# 9. 댓글이 3개 이상이며, 댓글 개수가 좋아요 개수보다 많은 Post 목록만 가져오기\n",
    "#     Post.objects.annotate(<무언가>).filter(<왼쪽에서한걸활용>)"
   ]
  },
  {
   "cell_type": "code",
   "execution_count": 60,
   "metadata": {},
   "outputs": [
    {
     "data": {
      "text/plain": [
       "<QuerySet [6]>"
      ]
     },
     "execution_count": 60,
     "metadata": {},
     "output_type": "execute_result"
    }
   ],
   "source": [
    "Post.objects.annotate(\n",
    "    comment_count=Count('postcomment'),\n",
    "    like_count=Count('postlike')\n",
    ").filter(\n",
    "    comment_count__gte=3\n",
    "#     comment_count__gt=F('like_count')\n",
    ").values_list('pk', flat=True)"
   ]
  }
 ],
 "metadata": {
  "kernelspec": {
   "display_name": "Django Shell-Plus",
   "language": "python",
   "name": "django_extensions"
  },
  "language_info": {
   "codemirror_mode": {
    "name": "ipython",
    "version": 3
   },
   "file_extension": ".py",
   "mimetype": "text/x-python",
   "name": "python",
   "nbconvert_exporter": "python",
   "pygments_lexer": "ipython3",
   "version": "3.7.5"
  }
 },
 "nbformat": 4,
 "nbformat_minor": 2
}
