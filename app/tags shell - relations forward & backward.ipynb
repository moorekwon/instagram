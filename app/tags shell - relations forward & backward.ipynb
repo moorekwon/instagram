{
 "cells": [
  {
   "cell_type": "code",
   "execution_count": 2,
   "metadata": {},
   "outputs": [
    {
     "data": {
      "text/plain": [
       "<QuerySet [<Post: practice | 2019-12-24 02:33:09.777656+00:00>, <Post: practice | 2020-01-08 06:56:11.658929+00:00>, <Post: practice | 2020-01-08 07:17:44.038017+00:00>, <Post: practice | 2020-01-08 07:57:36.314540+00:00>, <Post: practice | 2020-01-08 08:10:57.433426+00:00>, <Post: practice | 2020-01-08 08:36:40.039094+00:00>, <Post: practice | 2020-01-14 08:34:52.385627+00:00>, <Post: practice | 2020-01-14 09:00:49.571509+00:00>, <Post: practice | 2020-01-14 09:01:14.007024+00:00>, <Post: practice | 2020-01-14 09:02:43.844873+00:00>, <Post: practice | 2020-01-14 09:03:28.391802+00:00>, <Post: practice | 2020-01-14 09:06:02.504567+00:00>]>"
      ]
     },
     "execution_count": 2,
     "metadata": {},
     "output_type": "execute_result"
    }
   ],
   "source": [
    "Post.objects.all()"
   ]
  },
  {
   "cell_type": "code",
   "execution_count": 3,
   "metadata": {},
   "outputs": [
    {
     "data": {
      "text/plain": [
       "<QuerySet [<Tag: #Python>, <Tag: wow>, <Tag: Python>, <Tag: Django>, <Tag: 해시태그>, <Tag: 파이썬>]>"
      ]
     },
     "execution_count": 3,
     "metadata": {},
     "output_type": "execute_result"
    }
   ],
   "source": [
    "Tag.objects.all()"
   ]
  },
  {
   "cell_type": "code",
   "execution_count": 4,
   "metadata": {},
   "outputs": [
    {
     "name": "stdout",
     "output_type": "stream",
     "text": [
      "#Python: \n",
      "wow: 5\n",
      "Python: 7\n",
      "Django: \n",
      "해시태그: 9, 10, 11, 12\n",
      "파이썬: 10, 11, 12\n"
     ]
    }
   ],
   "source": [
    "for tag in Tag.objects.all():\n",
    "    result = '{tag}: {posts}'.format(tag=tag.name, posts=', '.join([str(post.pk) for post in tag.posts.all()]))\n",
    "    print(result)"
   ]
  },
  {
   "cell_type": "code",
   "execution_count": 47,
   "metadata": {},
   "outputs": [
    {
     "data": {
      "text/plain": [
       "<QuerySet [{'pk': 7}]>"
      ]
     },
     "execution_count": 47,
     "metadata": {},
     "output_type": "execute_result"
    }
   ],
   "source": [
    "# 파이썬 이라는 name을 가진 Tag를 자신의 tags 목록에 갖고 있는 경우인 Post\n",
    "# filter 조건(키워드)명으로\n",
    "# ManyToMany 등, RelatedField의 Forward 연결의 경우, 해당 필드명 사용\n",
    "# backward 연결의 경우,\n",
    "# related_name이 지정되어 있지 않다면, 연결되는 모델의 lowercase문자열 (_set 안붙음)\n",
    "# -> related_query_name\n",
    "\n",
    "# iexact -> exact 앞에 i 붙이면 대소문자 구별 x\n",
    "Post.objects.filter(tags__name__iexact='python').values('pk')"
   ]
  }
 ],
 "metadata": {
  "kernelspec": {
   "display_name": "Django Shell-Plus",
   "language": "python",
   "name": "django_extensions"
  },
  "language_info": {
   "codemirror_mode": {
    "name": "ipython",
    "version": 3
   },
   "file_extension": ".py",
   "mimetype": "text/x-python",
   "name": "python",
   "nbconvert_exporter": "python",
   "pygments_lexer": "ipython3",
   "version": "3.7.5"
  }
 },
 "nbformat": 4,
 "nbformat_minor": 2
}
